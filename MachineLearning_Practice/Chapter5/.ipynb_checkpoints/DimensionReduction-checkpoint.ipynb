{
 "cells": [
  {
   "cell_type": "markdown",
   "metadata": {},
   "source": [
    "# PCA"
   ]
  },
  {
   "cell_type": "code",
   "execution_count": 1,
   "metadata": {},
   "outputs": [],
   "source": [
    "import pandas as pd\n",
    "df_wine = pd.read_csv('./wine.data', header=None)"
   ]
  },
  {
   "cell_type": "markdown",
   "metadata": {},
   "source": [
    "## データ読み込み"
   ]
  },
  {
   "cell_type": "code",
   "execution_count": 3,
   "metadata": {},
   "outputs": [
    {
     "data": {
      "text/html": [
       "<div>\n",
       "<style scoped>\n",
       "    .dataframe tbody tr th:only-of-type {\n",
       "        vertical-align: middle;\n",
       "    }\n",
       "\n",
       "    .dataframe tbody tr th {\n",
       "        vertical-align: top;\n",
       "    }\n",
       "\n",
       "    .dataframe thead th {\n",
       "        text-align: right;\n",
       "    }\n",
       "</style>\n",
       "<table border=\"1\" class=\"dataframe\">\n",
       "  <thead>\n",
       "    <tr style=\"text-align: right;\">\n",
       "      <th></th>\n",
       "      <th>0</th>\n",
       "      <th>1</th>\n",
       "      <th>2</th>\n",
       "      <th>3</th>\n",
       "      <th>4</th>\n",
       "      <th>5</th>\n",
       "      <th>6</th>\n",
       "      <th>7</th>\n",
       "      <th>8</th>\n",
       "      <th>9</th>\n",
       "      <th>10</th>\n",
       "      <th>11</th>\n",
       "      <th>12</th>\n",
       "      <th>13</th>\n",
       "    </tr>\n",
       "  </thead>\n",
       "  <tbody>\n",
       "    <tr>\n",
       "      <td>0</td>\n",
       "      <td>1</td>\n",
       "      <td>14.23</td>\n",
       "      <td>1.71</td>\n",
       "      <td>2.43</td>\n",
       "      <td>15.6</td>\n",
       "      <td>127</td>\n",
       "      <td>2.80</td>\n",
       "      <td>3.06</td>\n",
       "      <td>0.28</td>\n",
       "      <td>2.29</td>\n",
       "      <td>5.64</td>\n",
       "      <td>1.04</td>\n",
       "      <td>3.92</td>\n",
       "      <td>1065</td>\n",
       "    </tr>\n",
       "    <tr>\n",
       "      <td>1</td>\n",
       "      <td>1</td>\n",
       "      <td>13.20</td>\n",
       "      <td>1.78</td>\n",
       "      <td>2.14</td>\n",
       "      <td>11.2</td>\n",
       "      <td>100</td>\n",
       "      <td>2.65</td>\n",
       "      <td>2.76</td>\n",
       "      <td>0.26</td>\n",
       "      <td>1.28</td>\n",
       "      <td>4.38</td>\n",
       "      <td>1.05</td>\n",
       "      <td>3.40</td>\n",
       "      <td>1050</td>\n",
       "    </tr>\n",
       "  </tbody>\n",
       "</table>\n",
       "</div>"
      ],
      "text/plain": [
       "   0      1     2     3     4    5     6     7     8     9     10    11    12  \\\n",
       "0   1  14.23  1.71  2.43  15.6  127  2.80  3.06  0.28  2.29  5.64  1.04  3.92   \n",
       "1   1  13.20  1.78  2.14  11.2  100  2.65  2.76  0.26  1.28  4.38  1.05  3.40   \n",
       "\n",
       "     13  \n",
       "0  1065  \n",
       "1  1050  "
      ]
     },
     "execution_count": 3,
     "metadata": {},
     "output_type": "execute_result"
    }
   ],
   "source": [
    "df_wine.head(2)"
   ]
  },
  {
   "cell_type": "markdown",
   "metadata": {},
   "source": [
    "## データセット準備"
   ]
  },
  {
   "cell_type": "code",
   "execution_count": 9,
   "metadata": {},
   "outputs": [],
   "source": [
    "from sklearn.model_selection import train_test_split\n",
    "# cross_validationはもうない\n",
    "from sklearn.preprocessing import StandardScaler\n",
    "\n",
    "# 2列目以降をXに、1列目をyに格納\n",
    "X, y = df_wine.iloc[:, 1:].values, df_wine.iloc[:, 0].values\n",
    "\n",
    "# トレーニングデータとテストデータに分割\n",
    "# stratifyの引数によって、目的変数の学習データと検証データに同じ割合で判定クラスを混ぜる\n",
    "X_train, X_test, y_train, y_test = train_test_split(X, y, test_size=0.3, stratify=y, random_state=0)\n",
    "\n",
    "# 平均と標準偏差を用いて標準化\n",
    "sc = StandardScaler()\n",
    "X_train_std = sc.fit_transform(X_train)\n",
    "X_test_std = sc.transform(X_test)"
   ]
  },
  {
   "cell_type": "markdown",
   "metadata": {},
   "source": [
    "## 共分散行列の作成と、共分散行列の固有値固有ベクトルを計算"
   ]
  },
  {
   "cell_type": "code",
   "execution_count": 10,
   "metadata": {},
   "outputs": [
    {
     "name": "stdout",
     "output_type": "stream",
     "text": [
      "\n",
      "Eigenvalues \n",
      "[4.84274532 2.41602459 1.54845825 0.96120438 0.84166161 0.6620634\n",
      " 0.51828472 0.34650377 0.3131368  0.10754642 0.21357215 0.15362835\n",
      " 0.1808613 ]\n"
     ]
    }
   ],
   "source": [
    "import numpy as np\n",
    "\n",
    "# 共分散行列の作成\n",
    "cov_mat = np.cov(X_train_std.T)\n",
    "# 固有値と固有ベクトルを計算\n",
    "eigen_vals, eigen_vecs = np.linalg.eig(cov_mat)\n",
    "print('\\nEigenvalues \\n%s' % eigen_vals)"
   ]
  },
  {
   "cell_type": "markdown",
   "metadata": {},
   "source": [
    "## schikit-learnのカーネル主成分分析"
   ]
  },
  {
   "cell_type": "code",
   "execution_count": 6,
   "metadata": {},
   "outputs": [],
   "source": [
    "from sklearn.decomposition import KernelPCA\n",
    "from sklearn.datasets import make_moons\n",
    "from matplotlib import pyplot as plt\n",
    "\n",
    "X, y = make_moons(n_samples=100, random_state=123) "
   ]
  },
  {
   "cell_type": "code",
   "execution_count": 27,
   "metadata": {},
   "outputs": [],
   "source": [
    "#X"
   ]
  },
  {
   "cell_type": "code",
   "execution_count": 12,
   "metadata": {},
   "outputs": [
    {
     "data": {
      "text/plain": [
       "<matplotlib.collections.PathCollection at 0x18a3db3aef0>"
      ]
     },
     "execution_count": 12,
     "metadata": {},
     "output_type": "execute_result"
    },
    {
     "data": {
      "image/png": "[encoded data removed]",
      "text/plain": [
       "<Figure size 432x288 with 1 Axes>"
      ]
     },
     "metadata": {
      "needs_background": "light"
     },
     "output_type": "display_data"
    }
   ],
   "source": [
    "plt.scatter(X[:, 0], X[:, 1])"
   ]
  },
  {
   "cell_type": "code",
   "execution_count": 13,
   "metadata": {},
   "outputs": [],
   "source": [
    "scikit_kpca = KernelPCA(n_components=2, kernel='rbf', gamma=15)\n",
    "X_skernpca = scikit_kpca.fit_transform(X)"
   ]
  },
  {
   "cell_type": "code",
   "execution_count": 28,
   "metadata": {},
   "outputs": [
    {
     "data": {
      "text/plain": [
       "array([[-0.19813012, -0.32893502],\n",
       "       [ 0.35038479, -0.18363537],\n",
       "       [ 0.33278344,  0.27303406],\n",
       "       [-0.35861834,  0.13787481],\n",
       "       [ 0.27947114, -0.34646117],\n",
       "       [-0.03231269, -0.09992664],\n",
       "       [-0.1402958 , -0.26393352],\n",
       "       [ 0.03231269, -0.09992664],\n",
       "       [ 0.34107928,  0.24384492],\n",
       "       [-0.11997571, -0.23460267],\n",
       "       [-0.36284598, -0.06785758],\n",
       "       [ 0.30536789, -0.32022674],\n",
       "       [ 0.36407185,  0.05708143],\n",
       "       [ 0.23323782, -0.35027498],\n",
       "       [-0.36450698, -0.02649036],\n",
       "       [-0.19110122,  0.31758295],\n",
       "       [ 0.3619725 ,  0.09811911],\n",
       "       [-0.25930323,  0.35789694],\n",
       "       [ 0.16016551, -0.28967584],\n",
       "       [ 0.36491625,  0.01534889],\n",
       "       [-0.30089306,  0.33640228],\n",
       "       [ 0.25930323,  0.35789694],\n",
       "       [-0.34376065, -0.21775298],\n",
       "       [-0.35401236,  0.17577444],\n",
       "       [-0.34107928,  0.24384492],\n",
       "       [ 0.20934501,  0.33483988],\n",
       "       [ 0.30089306,  0.33640228],\n",
       "       [-0.21607303, -0.34193845],\n",
       "       [ 0.09932993, -0.20228953],\n",
       "       [-0.20934501,  0.33483988],\n",
       "       [-0.35577988, -0.14695458],\n",
       "       [ 0.22683311,  0.34741261],\n",
       "       [-0.3232991 ,  0.29841965],\n",
       "       [ 0.34376065, -0.21775298],\n",
       "       [ 0.31265694,  0.31964198],\n",
       "       [ 0.27416866,  0.35566406],\n",
       "       [ 0.13245717,  0.2402938 ],\n",
       "       [ 0.09146283,  0.17247526],\n",
       "       [ 0.2649936 , -0.35255318],\n",
       "       [-0.2649936 , -0.35255318],\n",
       "       [-0.35038479, -0.18363537],\n",
       "       [ 0.2435057 ,  0.35513358],\n",
       "       [-0.27416866,  0.35566406],\n",
       "       [ 0.21607303, -0.34193845],\n",
       "       [-0.05656415, -0.13318112],\n",
       "       [ 0.36450698, -0.02649036],\n",
       "       [-0.24956408, -0.35382994],\n",
       "       [ 0.35401236,  0.17577444],\n",
       "       [-0.29294509, -0.33563662],\n",
       "       [ 0.11997571, -0.23460267],\n",
       "       [-0.31669638, -0.30044048],\n",
       "       [-0.36407185,  0.05708143],\n",
       "       [ 0.05656415, -0.13318112],\n",
       "       [-0.13245717,  0.2402938 ],\n",
       "       [-0.16016551, -0.28967584],\n",
       "       [ 0.07156393,  0.13691659],\n",
       "       [-0.3481618 ,  0.2112689 ],\n",
       "       [-0.1525819 ,  0.26997043],\n",
       "       [ 0.3599357 , -0.10819164],\n",
       "       [-0.17215982,  0.29586483],\n",
       "       [-0.30536789, -0.32022674],\n",
       "       [ 0.1525819 ,  0.26997043],\n",
       "       [-0.33592278, -0.24885957],\n",
       "       [-0.27947114, -0.34646117],\n",
       "       [-0.3599357 , -0.10819164],\n",
       "       [-0.23323782, -0.35027498],\n",
       "       [ 0.19813012, -0.32893502],\n",
       "       [ 0.35577988, -0.14695458],\n",
       "       [ 0.29294509, -0.33563662],\n",
       "       [-0.09932993, -0.20228953],\n",
       "       [-0.22683311,  0.34741261],\n",
       "       [-0.31265694,  0.31964198],\n",
       "       [-0.3619725 ,  0.09811911],\n",
       "       [ 0.07835894, -0.16798017],\n",
       "       [-0.17947161, -0.31143848],\n",
       "       [-0.07156393,  0.13691659],\n",
       "       [ 0.24956408, -0.35382994],\n",
       "       [ 0.17215982,  0.29586483],\n",
       "       [ 0.05311441,  0.10282916],\n",
       "       [-0.2435057 ,  0.35513358],\n",
       "       [-0.07835894, -0.16798017],\n",
       "       [ 0.32689231, -0.27654473],\n",
       "       [ 0.1402958 , -0.26393352],\n",
       "       [-0.05311441,  0.10282916],\n",
       "       [ 0.33592278, -0.24885957],\n",
       "       [ 0.3481618 ,  0.2112689 ],\n",
       "       [-0.28804847,  0.34846578],\n",
       "       [ 0.35861834,  0.13787481],\n",
       "       [ 0.11196462,  0.207455  ],\n",
       "       [-0.36491625,  0.01534889],\n",
       "       [-0.11196462,  0.207455  ],\n",
       "       [-0.33278344,  0.27303406],\n",
       "       [ 0.36284598, -0.06785758],\n",
       "       [-0.09146283,  0.17247526],\n",
       "       [ 0.28804847,  0.34846578],\n",
       "       [ 0.17947161, -0.31143848],\n",
       "       [ 0.3232991 ,  0.29841965],\n",
       "       [-0.32689231, -0.27654473],\n",
       "       [ 0.19110122,  0.31758295],\n",
       "       [ 0.31669638, -0.30044048]])"
      ]
     },
     "execution_count": 28,
     "metadata": {},
     "output_type": "execute_result"
    }
   ],
   "source": [
    "X_skernpca"
   ]
  },
  {
   "cell_type": "code",
   "execution_count": 29,
   "metadata": {},
   "outputs": [
    {
     "data": {
      "text/plain": [
       "array([0, 1, 1, 0, 1, 0, 0, 1, 1, 0, 0, 1, 1, 1, 0, 0, 1, 0, 1, 1, 0, 1,\n",
       "       0, 0, 0, 1, 1, 0, 1, 0, 0, 1, 0, 1, 1, 1, 1, 1, 1, 0, 0, 1, 0, 1,\n",
       "       0, 1, 0, 1, 0, 1, 0, 0, 1, 0, 0, 1, 0, 0, 1, 0, 0, 1, 0, 0, 0, 0,\n",
       "       1, 1, 1, 0, 0, 0, 0, 1, 0, 0, 1, 1, 1, 0, 0, 1, 1, 0, 1, 1, 0, 1,\n",
       "       1, 0, 0, 0, 1, 0, 1, 1, 1, 0, 1, 1], dtype=int64)"
      ]
     },
     "execution_count": 29,
     "metadata": {},
     "output_type": "execute_result"
    }
   ],
   "source": [
    "y"
   ]
  },
  {
   "cell_type": "code",
   "execution_count": 31,
   "metadata": {},
   "outputs": [
    {
     "data": {
      "text/plain": [
       "array([ True, False, False,  True, False,  True,  True, False, False,\n",
       "        True,  True, False, False, False,  True,  True, False,  True,\n",
       "       False, False,  True, False,  True,  True,  True, False, False,\n",
       "        True, False,  True,  True, False,  True, False, False, False,\n",
       "       False, False, False,  True,  True, False,  True, False,  True,\n",
       "       False,  True, False,  True, False,  True,  True, False,  True,\n",
       "        True, False,  True,  True, False,  True,  True, False,  True,\n",
       "        True,  True,  True, False, False, False,  True,  True,  True,\n",
       "        True, False,  True,  True, False, False, False,  True,  True,\n",
       "       False, False,  True, False, False,  True, False, False,  True,\n",
       "        True,  True, False,  True, False, False, False,  True, False,\n",
       "       False])"
      ]
     },
     "execution_count": 31,
     "metadata": {},
     "output_type": "execute_result"
    }
   ],
   "source": [
    "y==0"
   ]
  },
  {
   "cell_type": "code",
   "execution_count": 14,
   "metadata": {},
   "outputs": [
    {
     "data": {
      "text/plain": [
       "<matplotlib.collections.PathCollection at 0x18a3dbf7b70>"
      ]
     },
     "execution_count": 14,
     "metadata": {},
     "output_type": "execute_result"
    },
    {
     "data": {
      "image/png": "[encoded data removed]",
      "text/plain": [
       "<Figure size 432x288 with 1 Axes>"
      ]
     },
     "metadata": {
      "needs_background": "light"
     },
     "output_type": "display_data"
    }
   ],
   "source": [
    "plt.scatter(X_skernpca[:, 0], X_skernpca[:, 1])"
   ]
  },
  {
   "cell_type": "code",
   "execution_count": 23,
   "metadata": {},
   "outputs": [
    {
     "data": {
      "image/png": "[encoded data removed]",
      "text/plain": [
       "<Figure size 432x288 with 1 Axes>"
      ]
     },
     "metadata": {
      "needs_background": "light"
     },
     "output_type": "display_data"
    }
   ],
   "source": [
    "plt.scatter(X_skernpca[y==0, 0], X_skernpca[y==0, 1],\n",
    "           color='red', marker='^', alpha=0.5)\n",
    "plt.scatter(X_skernpca[y==1, 0], X_skernpca[y==1, 1],\n",
    "           color='blue', marker='o', alpha=0.5)\n",
    "plt.xlabel('PC1')\n",
    "plt.ylabel('PC2')\n",
    "plt.tight_layout()\n",
    "plt.show()"
   ]
  },
  {
   "cell_type": "code",
   "execution_count": null,
   "metadata": {},
   "outputs": [],
   "source": []
  }
 ],
 "metadata": {
  "kernelspec": {
   "display_name": "Python 3",
   "language": "python",
   "name": "python3"
  },
  "language_info": {
   "codemirror_mode": {
    "name": "ipython",
    "version": 3
   },
   "file_extension": ".py",
   "mimetype": "text/x-python",
   "name": "python",
   "nbconvert_exporter": "python",
   "pygments_lexer": "ipython3",
   "version": "3.6.4"
  }
 },
 "nbformat": 4,
 "nbformat_minor": 2
}
