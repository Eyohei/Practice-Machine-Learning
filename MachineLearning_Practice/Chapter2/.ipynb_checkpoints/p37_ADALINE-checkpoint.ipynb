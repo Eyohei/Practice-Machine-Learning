{
 "cells": [
  {
   "cell_type": "markdown",
   "metadata": {},
   "source": [
    "# ADALINEの実装"
   ]
  },
  {
   "cell_type": "code",
   "execution_count": 12,
   "metadata": {},
   "outputs": [],
   "source": [
    "import numpy as np\n",
    "class AdalineGD(object):\n",
    "    \"\"\"ADAptive LInear NEuron分類器\n",
    "\n",
    "    パラメータ\n",
    "    ------------\n",
    "    eta : float\n",
    "        学習率（0.0よりも大きく1.0より小さい）\n",
    "    n_iter : int\n",
    "        トレーニングデータのトレーニング回数\n",
    "    random_state : int\n",
    "        重みを初期化するための乱数シード\n",
    "\n",
    "    属性\n",
    "    -----------\n",
    "    w_ : 1次元配列\n",
    "        適合後の重み\n",
    "    cost_ : リスト\n",
    "        各エポックでの誤差平方和のコスト関数\n",
    "\n",
    "    \"\"\"\n",
    "    def __init__(self, eta=0.01, n_iter=50, random_state=1):\n",
    "        self.eta = eta\n",
    "        self.n_iter = n_iter\n",
    "        self.random_state = random_state\n",
    "\n",
    "    def fit(self, X, y):\n",
    "        \"\"\"トレーニングデータに適合させる\n",
    "\n",
    "        パラメータ\n",
    "        -----------\n",
    "        X: {配列のようなデータ構造}, shape = [n_sample, n_features]\n",
    "            トレーニングデータ\n",
    "            n_samples刃サンプルの個数, n_featuresは特徴量の個数\n",
    "        y: 配列のようなデータ構造, shape = [n_samples]\n",
    "            目的変数\n",
    "\n",
    "        戻り値\n",
    "        ----------\n",
    "        self : object\n",
    "\n",
    "        \"\"\"\n",
    "        rgen = np.random.RandomState(self.random_state)\n",
    "        # 平均0.0, '分散0.01の乱数を特徴量の個数+1個生成（足した1個はバイアスユニット用)\n",
    "        self.w_ = rgen.normal(loc=0.0, scale=0.01, size=1 + X.shape[1])\n",
    "        self.cost_ = []\n",
    "\n",
    "        for i in range(self.n_iter): # トレーニング回数分トレーニングデータを反復\n",
    "            net_input = self.net_input(X)\n",
    "            # activationメソッドは単なる恒等関数であるため、\n",
    "            # このコードでは何の効果亜もないことに注意。代わりに\n",
    "            # 直接'output = self.net_input(X)'と記述することもできた。\n",
    "            # activationメソッドの目的は、より概念的なものである。\n",
    "            # つまり、後のロジスティック回帰の場合は、\n",
    "            # ロジスティック回帰の分類器を実装するために\n",
    "            # シグモイド関数に変更することもできる。\n",
    "            output = self.activation(net_input)\n",
    "            # 誤差y_i - Φ(z_i)の計算\n",
    "            errors = (y -output)\n",
    "            # 重み w1, ..., wmの更新\n",
    "            # Δwj = ηΣ(y_i - Φ(z_i))xj_i (j=1, ..., m)\n",
    "            self.w_[1:] += self.eta * X.T.dot(errors)\n",
    "            # 重みw0の更新：Δw0 = ηΣ(y_i - Φ(z_i))\n",
    "            self.w_[0] += self.eta * errors.sum()\n",
    "            # コスト関数の計算J(w) = 1/2 Σ_i(y_i - Φ(z_i))^2\n",
    "            cost = (errors**2).sum() / 2.0\n",
    "            # コストの格納\n",
    "            self.cost_.append(cost)\n",
    "        return self\n",
    "\n",
    "    def net_input(self, X):\n",
    "        \"\"\"総入力を計算\"\"\"\n",
    "        return np.dot(X, self.w_[1:]) + self.w_[0]\n",
    "\n",
    "    def activation(self, X):\n",
    "        \"\"\"線形活性化関数の出力を計算\"\"\"\n",
    "        return X\n",
    "    \n",
    "    def predict(self, X):\n",
    "        \"\"\"1ステップ後のクラスラベルを返す\"\"\"\n",
    "        return np.where(self.activation(self.net_input(X)) >= 0.0, 1, -1)"
   ]
  },
  {
   "cell_type": "markdown",
   "metadata": {},
   "source": [
    "# パーセプトロン検証のための準備"
   ]
  },
  {
   "cell_type": "code",
   "execution_count": 13,
   "metadata": {},
   "outputs": [
    {
     "data": {
      "text/html": [
       "<div>\n",
       "<style scoped>\n",
       "    .dataframe tbody tr th:only-of-type {\n",
       "        vertical-align: middle;\n",
       "    }\n",
       "\n",
       "    .dataframe tbody tr th {\n",
       "        vertical-align: top;\n",
       "    }\n",
       "\n",
       "    .dataframe thead th {\n",
       "        text-align: right;\n",
       "    }\n",
       "</style>\n",
       "<table border=\"1\" class=\"dataframe\">\n",
       "  <thead>\n",
       "    <tr style=\"text-align: right;\">\n",
       "      <th></th>\n",
       "      <th>0</th>\n",
       "      <th>1</th>\n",
       "      <th>2</th>\n",
       "      <th>3</th>\n",
       "      <th>4</th>\n",
       "    </tr>\n",
       "  </thead>\n",
       "  <tbody>\n",
       "    <tr>\n",
       "      <td>145</td>\n",
       "      <td>6.7</td>\n",
       "      <td>3.0</td>\n",
       "      <td>5.2</td>\n",
       "      <td>2.3</td>\n",
       "      <td>Iris-virginica</td>\n",
       "    </tr>\n",
       "    <tr>\n",
       "      <td>146</td>\n",
       "      <td>6.3</td>\n",
       "      <td>2.5</td>\n",
       "      <td>5.0</td>\n",
       "      <td>1.9</td>\n",
       "      <td>Iris-virginica</td>\n",
       "    </tr>\n",
       "    <tr>\n",
       "      <td>147</td>\n",
       "      <td>6.5</td>\n",
       "      <td>3.0</td>\n",
       "      <td>5.2</td>\n",
       "      <td>2.0</td>\n",
       "      <td>Iris-virginica</td>\n",
       "    </tr>\n",
       "    <tr>\n",
       "      <td>148</td>\n",
       "      <td>6.2</td>\n",
       "      <td>3.4</td>\n",
       "      <td>5.4</td>\n",
       "      <td>2.3</td>\n",
       "      <td>Iris-virginica</td>\n",
       "    </tr>\n",
       "    <tr>\n",
       "      <td>149</td>\n",
       "      <td>5.9</td>\n",
       "      <td>3.0</td>\n",
       "      <td>5.1</td>\n",
       "      <td>1.8</td>\n",
       "      <td>Iris-virginica</td>\n",
       "    </tr>\n",
       "  </tbody>\n",
       "</table>\n",
       "</div>"
      ],
      "text/plain": [
       "       0    1    2    3               4\n",
       "145  6.7  3.0  5.2  2.3  Iris-virginica\n",
       "146  6.3  2.5  5.0  1.9  Iris-virginica\n",
       "147  6.5  3.0  5.2  2.0  Iris-virginica\n",
       "148  6.2  3.4  5.4  2.3  Iris-virginica\n",
       "149  5.9  3.0  5.1  1.8  Iris-virginica"
      ]
     },
     "execution_count": 13,
     "metadata": {},
     "output_type": "execute_result"
    }
   ],
   "source": [
    "# 実装したクラスをテスト用の準備\n",
    "# webからirsデータを読み込み\n",
    "import pandas as pd\n",
    "df = pd.read_csv('https://archive.ics.uci.edu/ml/machine-learning-databases/iris/iris.data', header=None)\n",
    "df.tail()"
   ]
  },
  {
   "cell_type": "code",
   "execution_count": 14,
   "metadata": {},
   "outputs": [
    {
     "data": {
      "image/png": "[encoded data removed]",
      "text/plain": [
       "<Figure size 432x288 with 1 Axes>"
      ]
     },
     "metadata": {
      "needs_background": "light"
     },
     "output_type": "display_data"
    }
   ],
   "source": [
    "# 目的変数の変換と説明変数の可視化\n",
    "import matplotlib.pyplot as plt\n",
    "import numpy as np\n",
    "\n",
    "# 1-100行目の目的変数の抽出\n",
    "y = df.iloc[0:100, 4].values\n",
    "# Iris-setosaを-1, Iris-versicolorを1に変換\n",
    "y = np.where(y == 'Iris-setosa', -1, 1)\n",
    "# 1-100行目の1, 3列目の抽出\n",
    "X = df.iloc[0:100, [0, 2]].values\n",
    "# 品種 setosaのプロット（赤の〇）\n",
    "plt.scatter(X[:50, 0], X[:50, 1], color='red', marker='o', label='setosa')\n",
    "# 品種 versicolorのプロット（青の×）\n",
    "plt.scatter(X[50:100, 0], X[50:100, 1], color='blue', marker='x', label='versicolor')\n",
    "# 軸ラベルの設定\n",
    "plt.xlabel('sepal length[cm]')\n",
    "plt.ylabel('petal length[cm]')\n",
    "# 凡例の設定（左上に配置）\n",
    "plt.legend(loc='upper left')\n",
    "# 図の表示\n",
    "plt.show()"
   ]
  },
  {
   "cell_type": "code",
   "execution_count": 21,
   "metadata": {},
   "outputs": [],
   "source": [
    "# 決定境界の可視化\n",
    "from matplotlib.colors import ListedColormap\n",
    "\n",
    "def plot_decision_regions(X, y, classifier, resolution=0.02):\n",
    "    \n",
    "    # マーカーとカラーマップの準備\n",
    "    markers = ('s', 'x', 'o', '^', 'v')\n",
    "    colors = ('red', 'blue', 'lightgreen', 'gray', 'cyan')\n",
    "    cmap = ListedColormap(colors[:len(np.unique(y))])\n",
    "    \n",
    "    # 決定領域のプロット\n",
    "    x1_min, x1_max = X[:, 0].min() - 1, X[:, 0].max() + 1\n",
    "    x2_min, x2_max = X[:, 1].min() - 1, X[:, 1].max() + 1\n",
    "    # グリッドポイントの生成\n",
    "    xx1, xx2 = np.meshgrid(np.arange(x1_min, x1_max, resolution), \n",
    "                          np.arange(x2_min, x2_max, resolution))\n",
    "    # 各特徴量を1次元配列に変換して予測を実行\n",
    "    Z = classifier.predict(np.array([xx1.ravel(), xx2.ravel()]).T)\n",
    "    # 予測結果を元のグリッドポイントのデータサイズに変換\n",
    "    Z = Z.reshape(xx1.shape)\n",
    "    # グリッドポイントの等高線プロット\n",
    "    plt.contourf(xx1, xx2, Z, alpha=0.3, cmap=cmap)\n",
    "    # 軸の範囲の設定\n",
    "    plt.xlim(xx1.min(), xx1.max())\n",
    "    plt.ylim(xx2.min(), xx2.max())\n",
    "    \n",
    "    # クラスごとにサンプルをプロット\n",
    "    for idx, cl in enumerate(np.unique(y)):\n",
    "        plt.scatter(x=X[y == cl, 0], \n",
    "                   y=X[y == cl, 1], \n",
    "                   alpha = 0.8, \n",
    "                   c=colors[idx], \n",
    "                   marker=markers[idx], \n",
    "                   label=cl, \n",
    "                   edgecolor='black')"
   ]
  },
  {
   "cell_type": "code",
   "execution_count": 22,
   "metadata": {},
   "outputs": [
    {
     "data": {
      "image/png": "[encoded data removed]",
      "text/plain": [
       "<Figure size 720x288 with 2 Axes>"
      ]
     },
     "metadata": {
      "needs_background": "light"
     },
     "output_type": "display_data"
    }
   ],
   "source": [
    "# 描画領域を1行2列に分割\n",
    "fig, ax = plt.subplots(nrows=1, ncols=2, figsize=(10, 4))\n",
    "# 勾配降下法によるADALINEの学習（学習率 eta=0.01)\n",
    "ada1 = AdalineGD(n_iter=10, eta=0.01).fit(X, y)\n",
    "# エポック数とコストの関係を表す折れ線グラフのプロット（縦軸のコストは常用対数）\n",
    "ax[0].plot(range(1, len(ada1.cost_)+1), np.log10(ada1.cost_), marker='o')\n",
    "# 軸ラベルの設定\n",
    "ax[0].set_xlabel('Epochs')\n",
    "ax[0].set_ylabel('log(Sum-squared-error)')\n",
    "# タイトルの設定\n",
    "ax[0].set_title('Adaline - learning rate 0.01')\n",
    "# 勾配降下法によるADALINEの学習（学習率 eta=0.0001)\n",
    "ada2 = AdalineGD(n_iter=10, eta=0.0001).fit(X, y)\n",
    "# エポック数とコストの関係を表す折れ線グラフのプロット\n",
    "ax[1].plot(range(1, len(ada2.cost_)+1), ada2.cost_, marker='o')\n",
    "# 軸ラベルの設定\n",
    "ax[1].set_xlabel('Epochs')\n",
    "ax[1].set_ylabel('Sum-squared-error')\n",
    "# タイトルの設定\n",
    "ax[1].set_title('Adaline - learning rate 0.0001')\n",
    "# 図の表示\n",
    "plt.show()"
   ]
  },
  {
   "cell_type": "code",
   "execution_count": 23,
   "metadata": {},
   "outputs": [],
   "source": [
    "# 勾配降下法の収束を速度UPするために特徴量を標準化\n",
    "# データのコピー\n",
    "X_std = np.copy(X)\n",
    "# 各列の標準化\n",
    "X_std[:, 0] = (X[:, 0] - X[:, 0].mean()) / X[:, 0].std()\n",
    "X_std[:, 1] = (X[:, 1] - X[:, 1].mean()) / X[:, 1].std()"
   ]
  },
  {
   "cell_type": "code",
   "execution_count": 25,
   "metadata": {},
   "outputs": [
    {
     "data": {
      "image/png": "[encoded data removed]",
      "text/plain": [
       "<Figure size 432x288 with 1 Axes>"
      ]
     },
     "metadata": {
      "needs_background": "light"
     },
     "output_type": "display_data"
    },
    {
     "data": {
      "image/png": "[encoded data removed]",
      "text/plain": [
       "<Figure size 432x288 with 1 Axes>"
      ]
     },
     "metadata": {
      "needs_background": "light"
     },
     "output_type": "display_data"
    }
   ],
   "source": [
    "# 勾配降下法によるADALINEの学習（標準化後、学習率eta=0.01)\n",
    "ada = AdalineGD(n_iter=15, eta=0.01)\n",
    "# モデルの適合\n",
    "ada.fit(X_std, y)\n",
    "# 境界領域のプロット\n",
    "plot_decision_regions(X_std, y, classifier=ada)\n",
    "# タイトルの設定\n",
    "plt.title('Adaline - Gradient Descent')\n",
    "# 軸ラベルの設定\n",
    "plt.xlabel('sepal length [standardized]')\n",
    "plt.ylabel('petal length [standardized]')\n",
    "# 凡例の設定（左上に配置）\n",
    "plt.legend(loc='upper left')\n",
    "# 図の表示\n",
    "plt.tight_layout()\n",
    "plt.show()\n",
    "# エポック数とコストの関係を表す折れ線グラフのプロット\n",
    "plt.plot(range(1, len(ada.cost_)+1), ada.cost_, marker='o')\n",
    "# 軸ラベルの設定\n",
    "plt.xlabel('Epochs')\n",
    "plt.ylabel('Sum-squared-error')\n",
    "# 図の表示\n",
    "plt.tight_layout()\n",
    "plt.show()"
   ]
  },
  {
   "cell_type": "code",
   "execution_count": null,
   "metadata": {},
   "outputs": [],
   "source": []
  }
 ],
 "metadata": {
  "kernelspec": {
   "display_name": "Python 3",
   "language": "python",
   "name": "python3"
  },
  "language_info": {
   "codemirror_mode": {
    "name": "ipython",
    "version": 3
   },
   "file_extension": ".py",
   "mimetype": "text/x-python",
   "name": "python",
   "nbconvert_exporter": "python",
   "pygments_lexer": "ipython3",
   "version": "3.6.4"
  }
 },
 "nbformat": 4,
 "nbformat_minor": 2
}
